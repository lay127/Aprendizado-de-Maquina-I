{
 "cells": [
  {
   "cell_type": "code",
   "execution_count": 141,
   "id": "144a8749",
   "metadata": {},
   "outputs": [],
   "source": [
    "import pandas as pd\n",
    "import numpy as np\n",
    "from sklearn.model_selection import train_test_split\n",
    "from sklearn.ensemble import RandomForestClassifier\n",
    "from sklearn.metrics import classification_report\n",
    "from dsto_gan import DSTO_GAN"
   ]
  },
  {
   "cell_type": "code",
   "execution_count": 142,
   "id": "05832109",
   "metadata": {},
   "outputs": [
    {
     "name": "stdout",
     "output_type": "stream",
     "text": [
      "Tipo de dados carregados: <class 'list'>\n",
      "Conteúdo dos dados: [     Pclass  Sex   Age  SibSp  Parch      Fare\n",
      "331       1    1  45.5      0      0   28.5000\n",
      "733       2    1  23.0      0      0   13.0000\n",
      "382       3    1  32.0      0      0    7.9250\n",
      "704       3    1  26.0      1      0    7.8542\n",
      "813       3    0   6.0      4      2   31.2750\n",
      "..      ...  ...   ...    ...    ...       ...\n",
      "106       3    0  21.0      0      0    7.6500\n",
      "270       1    1  30.0      0      0   31.0000\n",
      "860       3    1  41.0      2      0   14.1083\n",
      "435       1    0  14.0      1      2  120.0000\n",
      "102       1    1  21.0      0      1   77.2875\n",
      "\n",
      "[712 rows x 6 columns],      Pclass  Sex   Age  SibSp  Parch     Fare\n",
      "709       3    1  30.0      1      1  15.2458\n",
      "439       2    1  31.0      0      0  10.5000\n",
      "840       3    1  20.0      0      0   7.9250\n",
      "720       2    0   6.0      0      1  33.0000\n",
      "39        3    0  14.0      1      0  11.2417\n",
      "..      ...  ...   ...    ...    ...      ...\n",
      "433       3    1  17.0      0      0   7.1250\n",
      "773       3    1  30.0      0      0   7.2250\n",
      "25        3    0  38.0      1      5  31.3875\n",
      "84        2    0  17.0      0      0  10.5000\n",
      "10        3    0   4.0      1      1  16.7000\n",
      "\n",
      "[179 rows x 6 columns], 331    0\n",
      "733    0\n",
      "382    0\n",
      "704    0\n",
      "813    0\n",
      "      ..\n",
      "106    1\n",
      "270    0\n",
      "860    0\n",
      "435    1\n",
      "102    0\n",
      "Name: Survived, Length: 712, dtype: int64, 709    1\n",
      "439    0\n",
      "840    0\n",
      "720    1\n",
      "39     1\n",
      "      ..\n",
      "433    0\n",
      "773    0\n",
      "25     1\n",
      "84     1\n",
      "10     1\n",
      "Name: Survived, Length: 179, dtype: int64]\n",
      "X_treino:      Pclass  Sex   Age  SibSp  Parch      Fare\n",
      "331       1    1  45.5      0      0   28.5000\n",
      "733       2    1  23.0      0      0   13.0000\n",
      "382       3    1  32.0      0      0    7.9250\n",
      "704       3    1  26.0      1      0    7.8542\n",
      "813       3    0   6.0      4      2   31.2750\n",
      "..      ...  ...   ...    ...    ...       ...\n",
      "106       3    0  21.0      0      0    7.6500\n",
      "270       1    1  30.0      0      0   31.0000\n",
      "860       3    1  41.0      2      0   14.1083\n",
      "435       1    0  14.0      1      2  120.0000\n",
      "102       1    1  21.0      0      1   77.2875\n",
      "\n",
      "[712 rows x 6 columns]\n",
      "X_teste:      Pclass  Sex   Age  SibSp  Parch     Fare\n",
      "709       3    1  30.0      1      1  15.2458\n",
      "439       2    1  31.0      0      0  10.5000\n",
      "840       3    1  20.0      0      0   7.9250\n",
      "720       2    0   6.0      0      1  33.0000\n",
      "39        3    0  14.0      1      0  11.2417\n",
      "..      ...  ...   ...    ...    ...      ...\n",
      "433       3    1  17.0      0      0   7.1250\n",
      "773       3    1  30.0      0      0   7.2250\n",
      "25        3    0  38.0      1      5  31.3875\n",
      "84        2    0  17.0      0      0  10.5000\n",
      "10        3    0   4.0      1      1  16.7000\n",
      "\n",
      "[179 rows x 6 columns]\n",
      "y_treino: 331    0\n",
      "733    0\n",
      "382    0\n",
      "704    0\n",
      "813    0\n",
      "      ..\n",
      "106    1\n",
      "270    0\n",
      "860    0\n",
      "435    1\n",
      "102    0\n",
      "Name: Survived, Length: 712, dtype: int64\n",
      "y_teste: 709    1\n",
      "439    0\n",
      "840    0\n",
      "720    1\n",
      "39     1\n",
      "      ..\n",
      "433    0\n",
      "773    0\n",
      "25     1\n",
      "84     1\n",
      "10     1\n",
      "Name: Survived, Length: 179, dtype: int64\n",
      "Feature Names: None\n"
     ]
    }
   ],
   "source": [
    "import pickle\n",
    "\n",
    "# Abre o arquivo .pkl usando pickle\n",
    "with open('Titanic.pkl', 'rb') as f:\n",
    "    data = pickle.load(f)\n",
    "\n",
    "# Verifica a estrutura dos dados carregados\n",
    "print(\"Tipo de dados carregados:\", type(data))\n",
    "print(\"Conteúdo dos dados:\", data)\n",
    "\n",
    "# Se for uma lista, acesse os elementos por índice\n",
    "if isinstance(data, list):\n",
    "    X_treino = data[0]\n",
    "    X_teste = data[1]\n",
    "    y_treino = data[2]\n",
    "    y_teste = data[3]\n",
    "    feature_names = data[4] if len(data) > 4 else None  # Verifica se feature_names existe\n",
    "else:\n",
    "    raise TypeError(\"O arquivo .pkl não contém uma lista. Verifique a estrutura dos dados.\")\n",
    "\n",
    "# Verifica os dados carregados\n",
    "print(\"X_treino:\", X_treino)\n",
    "print(\"X_teste:\", X_teste)\n",
    "print(\"y_treino:\", y_treino)\n",
    "print(\"y_teste:\", y_teste)\n",
    "print(\"Feature Names:\", feature_names)"
   ]
  },
  {
   "cell_type": "code",
   "execution_count": 143,
   "id": "b3474d62",
   "metadata": {},
   "outputs": [
    {
     "name": "stdout",
     "output_type": "stream",
     "text": [
      "Distribuição original: Survived\n",
      "0    444\n",
      "1    268\n",
      "Name: count, dtype: int64\n"
     ]
    }
   ],
   "source": [
    "print(\"Distribuição original:\", y_treino.value_counts())"
   ]
  },
  {
   "cell_type": "code",
   "execution_count": 144,
   "id": "a3f39392",
   "metadata": {},
   "outputs": [
    {
     "name": "stdout",
     "output_type": "stream",
     "text": [
      "\n",
      "Distribuição após SMOTE: Survived\n",
      "0    444\n",
      "1    444\n",
      "Name: count, dtype: int64\n"
     ]
    }
   ],
   "source": [
    "from imblearn.over_sampling import SMOTE\n",
    "\n",
    "smote = SMOTE(random_state=42)\n",
    "X_train_smote, y_train_smote = smote.fit_resample(X_treino, y_treino)\n",
    "\n",
    "print(\"\\nDistribuição após SMOTE:\", y_train_smote.value_counts())\n",
    "\n",
    "# Treinar modelo\n",
    "model = RandomForestClassifier(random_state=42)\n",
    "model.fit(X_train_smote, y_train_smote)\n",
    "y_pred = model.predict(X_teste)"
   ]
  },
  {
   "cell_type": "code",
   "execution_count": 145,
   "id": "2924205f",
   "metadata": {},
   "outputs": [
    {
     "name": "stdout",
     "output_type": "stream",
     "text": [
      "\n",
      "SMOTE - Relatório de Classificação:\n",
      "              precision    recall  f1-score   support\n",
      "\n",
      "           0       0.83      0.83      0.83       105\n",
      "           1       0.76      0.76      0.76        74\n",
      "\n",
      "    accuracy                           0.80       179\n",
      "   macro avg       0.79      0.79      0.79       179\n",
      "weighted avg       0.80      0.80      0.80       179\n",
      "\n"
     ]
    }
   ],
   "source": [
    "print(\"\\nSMOTE - Relatório de Classificação:\")\n",
    "print(classification_report(y_teste, y_pred))"
   ]
  },
  {
   "cell_type": "code",
   "execution_count": 146,
   "id": "22f44f1b",
   "metadata": {},
   "outputs": [
    {
     "name": "stdout",
     "output_type": "stream",
     "text": [
      "\n",
      "Distribuição após Tomek Links: Survived\n",
      "0    403\n",
      "1    268\n",
      "Name: count, dtype: int64\n"
     ]
    }
   ],
   "source": [
    "from imblearn.under_sampling import TomekLinks\n",
    "\n",
    "tomek = TomekLinks()\n",
    "X_train_tomek, y_train_tomek = tomek.fit_resample(X_treino, y_treino)\n",
    "\n",
    "print(\"\\nDistribuição após Tomek Links:\", y_train_tomek.value_counts())\n",
    "\n",
    "# Treinar modelo\n",
    "model = RandomForestClassifier(random_state=42)\n",
    "model.fit(X_train_tomek, y_train_tomek)\n",
    "y_pred = model.predict(X_teste)"
   ]
  },
  {
   "cell_type": "code",
   "execution_count": 147,
   "id": "0834c704",
   "metadata": {},
   "outputs": [
    {
     "name": "stdout",
     "output_type": "stream",
     "text": [
      "\n",
      "Tomek Links - Relatório de Classificação:\n",
      "              precision    recall  f1-score   support\n",
      "\n",
      "           0       0.84      0.84      0.84       105\n",
      "           1       0.77      0.77      0.77        74\n",
      "\n",
      "    accuracy                           0.81       179\n",
      "   macro avg       0.80      0.80      0.80       179\n",
      "weighted avg       0.81      0.81      0.81       179\n",
      "\n"
     ]
    }
   ],
   "source": [
    "print(\"\\nTomek Links - Relatório de Classificação:\")\n",
    "print(classification_report(y_teste, y_pred))"
   ]
  },
  {
   "cell_type": "code",
   "execution_count": 148,
   "id": "3111fc4f",
   "metadata": {},
   "outputs": [
    {
     "name": "stdout",
     "output_type": "stream",
     "text": [
      "\n",
      "Distribuição após Random Under-sampling: Survived\n",
      "0    268\n",
      "1    268\n",
      "Name: count, dtype: int64\n"
     ]
    }
   ],
   "source": [
    "from imblearn.under_sampling import RandomUnderSampler\n",
    "\n",
    "rus = RandomUnderSampler(random_state=42)\n",
    "X_train_rus, y_train_rus = rus.fit_resample(X_treino, y_treino)\n",
    "\n",
    "print(\"\\nDistribuição após Random Under-sampling:\", y_train_rus.value_counts())\n",
    "\n",
    "# Treinar modelo\n",
    "model = RandomForestClassifier(random_state=42)\n",
    "model.fit(X_train_rus, y_train_rus)\n",
    "y_pred = model.predict(X_teste)"
   ]
  },
  {
   "cell_type": "code",
   "execution_count": 149,
   "id": "4d0304e9",
   "metadata": {},
   "outputs": [
    {
     "name": "stdout",
     "output_type": "stream",
     "text": [
      "\n",
      "Random Under-sampling - Relatório de Classificação:\n",
      "              precision    recall  f1-score   support\n",
      "\n",
      "           0       0.85      0.79      0.82       105\n",
      "           1       0.73      0.80      0.76        74\n",
      "\n",
      "    accuracy                           0.79       179\n",
      "   macro avg       0.79      0.79      0.79       179\n",
      "weighted avg       0.80      0.79      0.79       179\n",
      "\n"
     ]
    }
   ],
   "source": [
    "print(\"\\nRandom Under-sampling - Relatório de Classificação:\")\n",
    "print(classification_report(y_teste, y_pred))"
   ]
  },
  {
   "cell_type": "code",
   "execution_count": 150,
   "id": "90a69092",
   "metadata": {},
   "outputs": [
    {
     "name": "stdout",
     "output_type": "stream",
     "text": [
      "\n",
      "SMOTE - Classification Report:\n",
      "              precision    recall  f1-score   support\n",
      "\n",
      "           0       0.83      0.83      0.83       105\n",
      "           1       0.76      0.76      0.76        74\n",
      "\n",
      "    accuracy                           0.80       179\n",
      "   macro avg       0.79      0.79      0.79       179\n",
      "weighted avg       0.80      0.80      0.80       179\n",
      "\n",
      "\n",
      "TomekLinks - Classification Report:\n",
      "              precision    recall  f1-score   support\n",
      "\n",
      "           0       0.84      0.84      0.84       105\n",
      "           1       0.77      0.77      0.77        74\n",
      "\n",
      "    accuracy                           0.81       179\n",
      "   macro avg       0.80      0.80      0.80       179\n",
      "weighted avg       0.81      0.81      0.81       179\n",
      "\n",
      "\n",
      "RandomUnderSampler - Classification Report:\n",
      "              precision    recall  f1-score   support\n",
      "\n",
      "           0       0.85      0.79      0.82       105\n",
      "           1       0.73      0.80      0.76        74\n",
      "\n",
      "    accuracy                           0.79       179\n",
      "   macro avg       0.79      0.79      0.79       179\n",
      "weighted avg       0.80      0.79      0.79       179\n",
      "\n",
      "\n",
      "DSTO-GAN (original) - Classification Report:\n",
      "              precision    recall  f1-score   support\n",
      "\n",
      "           0       0.83      0.86      0.84       105\n",
      "           1       0.79      0.74      0.76        74\n",
      "\n",
      "    accuracy                           0.81       179\n",
      "   macro avg       0.81      0.80      0.80       179\n",
      "weighted avg       0.81      0.81      0.81       179\n",
      "\n"
     ]
    },
    {
     "name": "stderr",
     "output_type": "stream",
     "text": [
      "c:\\Users\\llays\\AppData\\Local\\Programs\\Python\\Python313\\Lib\\site-packages\\sklearn\\utils\\validation.py:2732: UserWarning: X has feature names, but RandomForestClassifier was fitted without feature names\n",
      "  warnings.warn(\n"
     ]
    }
   ],
   "source": [
    "# 2. Métodos de balanceamento tradicionais (para comparação)\n",
    "methods = {\n",
    "    \"SMOTE\": SMOTE(random_state=42),\n",
    "    \"TomekLinks\": TomekLinks(),\n",
    "    \"RandomUnderSampler\": RandomUnderSampler(random_state=42)\n",
    "}\n",
    "\n",
    "for name, method in methods.items():\n",
    "    X_res, y_res = method.fit_resample(X_treino, y_treino)\n",
    "    model = RandomForestClassifier(random_state=42)\n",
    "    model.fit(X_res, y_res)\n",
    "    y_pred = model.predict(X_teste)\n",
    "    \n",
    "    print(f\"\\n{name} - Classification Report:\")\n",
    "    print(classification_report(y_teste, y_pred))\n",
    "\n",
    "# 3. Solução alternativa para DSTO-GAN (caso o pacote não funcione)\n",
    "# Implementaremos uma abordagem similar com GAN básica usando TensorFlow/Keras\n",
    "\n",
    "try:\n",
    "    from dsto_gan import DSTO_GAN\n",
    "    # Tentativa com o pacote original\n",
    "    dstogan = DSTO_GAN(epochs=50, batch_size=32)  # Reduzi epochs para demo\n",
    "    X_res_dsto, y_res_dsto = dstogan.fit_resample(X_treino.values, y_treino.values)\n",
    "    \n",
    "    model = RandomForestClassifier(random_state=42)\n",
    "    model.fit(X_res_dsto, y_res_dsto)\n",
    "    y_pred = model.predict(X_teste)\n",
    "    \n",
    "    print(\"\\nDSTO-GAN (original) - Classification Report:\")\n",
    "    print(classification_report(y_teste, y_pred))\n",
    "\n",
    "except Exception as e:\n",
    "    print(f\"\\nErro ao usar DSTO-GAN: {str(e)}\")\n",
    "    print(\"Implementando alternativa com GAN básica...\")\n",
    "    \n",
    "    # Implementação alternativa simples\n",
    "    from tensorflow.keras.layers import Dense, Input\n",
    "    from tensorflow.keras.models import Model, Sequential\n",
    "    from tensorflow.keras.optimizers import Adam\n",
    "    \n",
    "    # Configuração da GAN simples\n",
    "    def build_generator():\n",
    "        model = Sequential([\n",
    "            Dense(32, input_dim=6, activation='relu'),\n",
    "            Dense(16, activation='relu'),\n",
    "            Dense(6, activation='tanh')\n",
    "        ])\n",
    "        return model\n",
    "    \n",
    "    # Apenas para demonstração - não é o DSTO-GAN real\n",
    "    minority = X_treino[y_treino == 1].values\n",
    "    generator = build_generator()\n",
    "    \n",
    "    # Gerar amostras sintéticas (número igual à classe majoritária)\n",
    "    noise = np.random.normal(0, 1, size=(len(X_treino[y_treino == 0]) - len(minority), 6))\n",
    "    synthetic = generator.predict(noise)\n",
    "    \n",
    "    # Combinar dados\n",
    "    X_combined = np.vstack([X_treino.values, synthetic])\n",
    "    y_combined = np.hstack([y_treino.values, np.ones(len(synthetic))])\n",
    "    \n",
    "    # Treinar modelo\n",
    "    model = RandomForestClassifier(random_state=42)\n",
    "    model.fit(X_combined, y_combined)\n",
    "    y_pred = model.predict(X_teste)"
   ]
  },
  {
   "cell_type": "code",
   "execution_count": 151,
   "id": "f65a316f",
   "metadata": {},
   "outputs": [
    {
     "name": "stdout",
     "output_type": "stream",
     "text": [
      "\n",
      "DSTO-GAN - Relatório de Classificação:\n",
      "              precision    recall  f1-score   support\n",
      "\n",
      "           0       0.83      0.86      0.84       105\n",
      "           1       0.79      0.74      0.76        74\n",
      "\n",
      "    accuracy                           0.81       179\n",
      "   macro avg       0.81      0.80      0.80       179\n",
      "weighted avg       0.81      0.81      0.81       179\n",
      "\n"
     ]
    }
   ],
   "source": [
    "print(\"\\nDSTO-GAN - Relatório de Classificação:\")\n",
    "print(classification_report(y_teste, y_pred))"
   ]
  }
 ],
 "metadata": {
  "kernelspec": {
   "display_name": "Python 3",
   "language": "python",
   "name": "python3"
  },
  "language_info": {
   "codemirror_mode": {
    "name": "ipython",
    "version": 3
   },
   "file_extension": ".py",
   "mimetype": "text/x-python",
   "name": "python",
   "nbconvert_exporter": "python",
   "pygments_lexer": "ipython3",
   "version": "3.13.2"
  }
 },
 "nbformat": 4,
 "nbformat_minor": 5
}
